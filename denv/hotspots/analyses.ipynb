{
 "cells": [
  {
   "cell_type": "markdown",
   "id": "mental-reputation",
   "metadata": {},
   "source": [
    "## Mutational burden analysis for denv2 intra-host genetic variants data"
   ]
  },
  {
   "cell_type": "code",
   "execution_count": 1,
   "id": "static-shell",
   "metadata": {},
   "outputs": [],
   "source": [
    "import os\n",
    "\n",
    "path = \"\"\n",
    "file = \"data.csv\"\n",
    "csv = os.path.join(path, file)"
   ]
  },
  {
   "cell_type": "code",
   "execution_count": 2,
   "id": "inappropriate-premises",
   "metadata": {},
   "outputs": [
    {
     "data": {
      "text/html": [
       "<div>\n",
       "<style scoped>\n",
       "    .dataframe tbody tr th:only-of-type {\n",
       "        vertical-align: middle;\n",
       "    }\n",
       "\n",
       "    .dataframe tbody tr th {\n",
       "        vertical-align: top;\n",
       "    }\n",
       "\n",
       "    .dataframe thead th {\n",
       "        text-align: right;\n",
       "    }\n",
       "</style>\n",
       "<table border=\"1\" class=\"dataframe\">\n",
       "  <thead>\n",
       "    <tr style=\"text-align: right;\">\n",
       "      <th></th>\n",
       "      <th>gene</th>\n",
       "      <th>pos</th>\n",
       "      <th>ref</th>\n",
       "      <th>alt</th>\n",
       "      <th>aa_subs</th>\n",
       "      <th>160</th>\n",
       "      <th>161</th>\n",
       "      <th>162</th>\n",
       "      <th>163</th>\n",
       "      <th>166</th>\n",
       "      <th>...</th>\n",
       "      <th>200</th>\n",
       "      <th>201</th>\n",
       "      <th>202</th>\n",
       "      <th>203</th>\n",
       "      <th>204</th>\n",
       "      <th>137</th>\n",
       "      <th>139</th>\n",
       "      <th>140</th>\n",
       "      <th>143</th>\n",
       "      <th>149</th>\n",
       "    </tr>\n",
       "  </thead>\n",
       "  <tbody>\n",
       "    <tr>\n",
       "      <th>0</th>\n",
       "      <td>5UTR</td>\n",
       "      <td>67</td>\n",
       "      <td>A</td>\n",
       "      <td>T</td>\n",
       "      <td>-</td>\n",
       "      <td>0.0</td>\n",
       "      <td>0.0</td>\n",
       "      <td>0.0</td>\n",
       "      <td>0.0</td>\n",
       "      <td>0.0</td>\n",
       "      <td>...</td>\n",
       "      <td>0.0</td>\n",
       "      <td>0.0</td>\n",
       "      <td>0.0</td>\n",
       "      <td>0.0</td>\n",
       "      <td>0.0</td>\n",
       "      <td>1.0</td>\n",
       "      <td>1.0</td>\n",
       "      <td>0.0</td>\n",
       "      <td>0.0</td>\n",
       "      <td>0.0</td>\n",
       "    </tr>\n",
       "    <tr>\n",
       "      <th>1</th>\n",
       "      <td>5UTR</td>\n",
       "      <td>70</td>\n",
       "      <td>G</td>\n",
       "      <td>GT</td>\n",
       "      <td>-</td>\n",
       "      <td>0.0</td>\n",
       "      <td>0.0</td>\n",
       "      <td>0.0</td>\n",
       "      <td>0.0</td>\n",
       "      <td>0.0</td>\n",
       "      <td>...</td>\n",
       "      <td>0.0</td>\n",
       "      <td>0.0</td>\n",
       "      <td>1.0</td>\n",
       "      <td>1.0</td>\n",
       "      <td>1.0</td>\n",
       "      <td>1.0</td>\n",
       "      <td>0.0</td>\n",
       "      <td>0.0</td>\n",
       "      <td>0.0</td>\n",
       "      <td>0.0</td>\n",
       "    </tr>\n",
       "    <tr>\n",
       "      <th>2</th>\n",
       "      <td>5UTR</td>\n",
       "      <td>95</td>\n",
       "      <td>T</td>\n",
       "      <td>A</td>\n",
       "      <td>-</td>\n",
       "      <td>0.0</td>\n",
       "      <td>0.0</td>\n",
       "      <td>0.0</td>\n",
       "      <td>0.0</td>\n",
       "      <td>0.0</td>\n",
       "      <td>...</td>\n",
       "      <td>0.0</td>\n",
       "      <td>0.0</td>\n",
       "      <td>0.0</td>\n",
       "      <td>0.0</td>\n",
       "      <td>0.0</td>\n",
       "      <td>0.0</td>\n",
       "      <td>0.0</td>\n",
       "      <td>0.0</td>\n",
       "      <td>0.0</td>\n",
       "      <td>0.0</td>\n",
       "    </tr>\n",
       "    <tr>\n",
       "      <th>3</th>\n",
       "      <td>5UTR</td>\n",
       "      <td>96</td>\n",
       "      <td>G</td>\n",
       "      <td>A</td>\n",
       "      <td>-</td>\n",
       "      <td>0.0</td>\n",
       "      <td>0.0</td>\n",
       "      <td>0.0</td>\n",
       "      <td>0.0</td>\n",
       "      <td>1.0</td>\n",
       "      <td>...</td>\n",
       "      <td>0.0</td>\n",
       "      <td>0.0</td>\n",
       "      <td>0.0</td>\n",
       "      <td>0.0</td>\n",
       "      <td>0.0</td>\n",
       "      <td>0.0</td>\n",
       "      <td>0.0</td>\n",
       "      <td>0.0</td>\n",
       "      <td>0.0</td>\n",
       "      <td>0.0</td>\n",
       "    </tr>\n",
       "    <tr>\n",
       "      <th>4</th>\n",
       "      <td>C</td>\n",
       "      <td>102</td>\n",
       "      <td>C</td>\n",
       "      <td>T</td>\n",
       "      <td>-</td>\n",
       "      <td>0.0</td>\n",
       "      <td>0.0</td>\n",
       "      <td>0.0</td>\n",
       "      <td>1.0</td>\n",
       "      <td>0.0</td>\n",
       "      <td>...</td>\n",
       "      <td>0.0</td>\n",
       "      <td>0.0</td>\n",
       "      <td>0.0</td>\n",
       "      <td>0.0</td>\n",
       "      <td>0.0</td>\n",
       "      <td>0.0</td>\n",
       "      <td>0.0</td>\n",
       "      <td>0.0</td>\n",
       "      <td>0.0</td>\n",
       "      <td>0.0</td>\n",
       "    </tr>\n",
       "  </tbody>\n",
       "</table>\n",
       "<p>5 rows × 73 columns</p>\n",
       "</div>"
      ],
      "text/plain": [
       "   gene  pos ref alt aa_subs  160  161  162  163  166  ...  200  201  202  \\\n",
       "0  5UTR   67   A   T       -  0.0  0.0  0.0  0.0  0.0  ...  0.0  0.0  0.0   \n",
       "1  5UTR   70   G  GT       -  0.0  0.0  0.0  0.0  0.0  ...  0.0  0.0  1.0   \n",
       "2  5UTR   95   T   A       -  0.0  0.0  0.0  0.0  0.0  ...  0.0  0.0  0.0   \n",
       "3  5UTR   96   G   A       -  0.0  0.0  0.0  0.0  1.0  ...  0.0  0.0  0.0   \n",
       "4     C  102   C   T       -  0.0  0.0  0.0  1.0  0.0  ...  0.0  0.0  0.0   \n",
       "\n",
       "   203  204  137  139  140  143  149  \n",
       "0  0.0  0.0  1.0  1.0  0.0  0.0  0.0  \n",
       "1  1.0  1.0  1.0  0.0  0.0  0.0  0.0  \n",
       "2  0.0  0.0  0.0  0.0  0.0  0.0  0.0  \n",
       "3  0.0  0.0  0.0  0.0  0.0  0.0  0.0  \n",
       "4  0.0  0.0  0.0  0.0  0.0  0.0  0.0  \n",
       "\n",
       "[5 rows x 73 columns]"
      ]
     },
     "execution_count": 2,
     "metadata": {},
     "output_type": "execute_result"
    }
   ],
   "source": [
    "import pandas as pd\n",
    "csv_data = pd.read_csv(csv).fillna(0)\n",
    "csv_data.head()"
   ]
  },
  {
   "cell_type": "code",
   "execution_count": 3,
   "id": "threatened-thomson",
   "metadata": {
    "jupyter": {
     "source_hidden": true
    },
    "tags": []
   },
   "outputs": [],
   "source": [
    "# samples by clinical classification\n",
    "DF = list(map(str, [  # dengue fever\n",
    "    160,\n",
    "    161,\n",
    "    162,\n",
    "    163,\n",
    "    166,\n",
    "    167,\n",
    "    168,\n",
    "    169,\n",
    "    170,\n",
    "    171,\n",
    "    172,\n",
    "    173,\n",
    "    174,\n",
    "    175,\n",
    "    177,\n",
    "    178,\n",
    "    179,\n",
    "    180,\n",
    "    181,\n",
    "    182,\n",
    "    183,\n",
    "    184,\n",
    "    141,\n",
    "    142,\n",
    "    145,\n",
    "    146,\n",
    "    151,\n",
    "    154,\n",
    "    155,\n",
    "    158,\n",
    "    159,\n",
    "]))\n",
    "\n",
    "\n",
    "WS = list(map(str, [  # warning signs\n",
    "    185,\n",
    "    186,\n",
    "    187,\n",
    "    188,\n",
    "    189,\n",
    "    190,\n",
    "    191,\n",
    "    192,\n",
    "    193,\n",
    "    207,\n",
    "    205,\n",
    "    206,\n",
    "    138,\n",
    "    144,\n",
    "    147,\n",
    "    148,\n",
    "    153,\n",
    "    156,\n",
    "    157,\n",
    "]))\n",
    "\n",
    "\n",
    "SD = list(map(str, [  # severe dengue\n",
    "    208,\n",
    "    209,\n",
    "    194,\n",
    "    195,\n",
    "    196,\n",
    "    197,\n",
    "    198,\n",
    "    199,\n",
    "    200,\n",
    "    201,\n",
    "    202,\n",
    "    203,\n",
    "    204,\n",
    "    137,\n",
    "    139,\n",
    "    140,\n",
    "    143,\n",
    "    149,\n",
    "]))"
   ]
  },
  {
   "cell_type": "code",
   "execution_count": 4,
   "id": "sporting-apple",
   "metadata": {
    "tags": []
   },
   "outputs": [],
   "source": [
    "annots = {\n",
    "    \"5UTR\": (1, 96),\n",
    "    \"C\": (97, 438),\n",
    "    \"prM/M\": (439, 936),\n",
    "    \"E\": (937, 2421),\n",
    "    \"NS1\": (2422, 3477),\n",
    "    \"NS2A\": (3478, 4131),\n",
    "    \"NS2B\": (4132, 4521),\n",
    "    \"NS3\":  (4522, 6375),\n",
    "    \"NS4A\": (6376, 6825),\n",
    "    \"NS4B\": (6826, 7569),\n",
    "    \"NS5\": (7570, 10269),\n",
    "    \"3UTR\": (10273, 10723),\n",
    "}"
   ]
  },
  {
   "cell_type": "code",
   "execution_count": 5,
   "id": "federal-alexandria",
   "metadata": {},
   "outputs": [],
   "source": [
    "# separate by class\n",
    "df_data = csv_data[csv_data.columns[:5]].assign(df = csv_data[DF].sum(axis=1))\n",
    "ws_data = csv_data[csv_data.columns[:5]].assign(ws = csv_data[WS].sum(axis=1))\n",
    "sd_data = csv_data[csv_data.columns[:5]].assign(sd = csv_data[SD].sum(axis=1))\n",
    "\n",
    "# remove lines with no mutations\n",
    "df_data = df_data[df_data.df != 0.0]\n",
    "ws_data = ws_data[ws_data.ws != 0.0]\n",
    "sd_data = sd_data[sd_data.sd != 0.0]"
   ]
  },
  {
   "cell_type": "code",
   "execution_count": 6,
   "id": "eleven-front",
   "metadata": {},
   "outputs": [],
   "source": [
    "import numpy as np\n",
    "\n",
    "def get_mutations(region_len, df):\n",
    "    \"\"\"Get unique mutations count in each region.\"\"\"\n",
    "    x = []  # mutation count in each region\n",
    "    n = []  # number of bases in each region\n",
    "    k = annots[\"3UTR\"][1] - annots[\"5UTR\"][0]\n",
    "    labels_str = []\n",
    "    labels_int = []\n",
    "    \n",
    "    for region in range(0, k, region_len):\n",
    "        below = df[df[\"pos\"] < region + region_len]\n",
    "        above = below[below[\"pos\"] >= region]\n",
    "        x.append(above.shape[0])\n",
    "        \n",
    "        if region + region_len > k:\n",
    "            n.append(k - region)\n",
    "#             labels_str.append(\"({0:05d}, {1:05d})\".format(region, region + (k - region)))\n",
    "            labels_str.append(\"({}, {})\".format(region + 1, region + (k - region) + 1))\n",
    "            labels_int.append((region + 1, region + (k - region) + 1))\n",
    "        else:\n",
    "            n.append(region_len)\n",
    "#             labels_str.append(\"({0:05d}, {1:05d})\".format(region, region + region_len))\n",
    "            labels_str.append(\"({}, {})\".format(region + 1, region + region_len + 1))\n",
    "            labels_int.append((region + 1, region + region_len + 1))\n",
    "    \n",
    "    return x, n, labels_str, labels_int"
   ]
  },
  {
   "cell_type": "code",
   "execution_count": 7,
   "id": "senior-sacramento",
   "metadata": {},
   "outputs": [],
   "source": [
    "# define window size\n",
    "REGION_LEN = 3 * 6"
   ]
  },
  {
   "cell_type": "code",
   "execution_count": 8,
   "id": "miniature-session",
   "metadata": {},
   "outputs": [],
   "source": [
    "muts_df, windows_df, labels_str_df, labels_int_df = get_mutations(REGION_LEN, df_data)\n",
    "muts_ws, windows_ws, labels_str_ws, labels_int_ws = get_mutations(REGION_LEN, ws_data)\n",
    "muts_sd, windows_sd, labels_str_sd, labels_int_sd = get_mutations(REGION_LEN, sd_data)\n",
    "\n",
    "# get density (divide by region len) \n",
    "df_dens = np.asarray(muts_df) / np.asarray(windows_df)\n",
    "ws_dens = np.asarray(muts_ws) / np.asarray(windows_ws)\n",
    "sd_dens = np.asarray(muts_sd) / np.asarray(windows_sd)"
   ]
  },
  {
   "cell_type": "markdown",
   "id": "juvenile-knowing",
   "metadata": {},
   "source": [
    "## Plot heatmaps"
   ]
  },
  {
   "cell_type": "code",
   "execution_count": 9,
   "id": "vocal-variance",
   "metadata": {},
   "outputs": [],
   "source": [
    "import matplotlib.pyplot as plt\n",
    "%matplotlib inline\n",
    "%matplotlib widget\n",
    "\n",
    "def plot_heatmap(df_dens, ws_dens, sd_dens, annots, labels_str, labels_int, gene):\n",
    "    inds = ((np.array(labels_int)[:, 0] >= annots[gene][0]).astype(int)  * (np.array(labels_int)[:, 1] <= annots[gene][1] + REGION_LEN).astype(int)).astype(bool)\n",
    "    heat = np.array([df_dens[inds], ws_dens[inds], sd_dens[inds]])\n",
    "    \n",
    "    fig, ax = plt.subplots()\n",
    "    fig.set_size_inches(25.5, 5.5)\n",
    "    \n",
    "    tot = np.array([df_dens, ws_dens, sd_dens])\n",
    "    im = ax.imshow(heat, interpolation='nearest', aspect='auto', cmap='YlOrBr', vmin=np.min(tot), vmax=np.max(tot))\n",
    "    \n",
    "    ax.set_yticks(range(3))\n",
    "    ax.set_yticklabels(['DF', 'WS', 'SD'])\n",
    "    ax.set_xticks(range(len(np.array(labels_str)[inds])))\n",
    "    ax.set_xticklabels(np.array(labels_str)[inds])\n",
    "    ax.set_title(f\"{gene}\")\n",
    "    plt.xticks(rotation=90)\n",
    "    plt.tight_layout()\n",
    "    plt.colorbar(im)"
   ]
  },
  {
   "cell_type": "code",
   "execution_count": 10,
   "id": "artistic-polls",
   "metadata": {
    "collapsed": true,
    "jupyter": {
     "outputs_hidden": true
    },
    "tags": []
   },
   "outputs": [
    {
     "data": {
      "application/vnd.jupyter.widget-view+json": {
       "model_id": "eba0bb22987043bf878dc616bcec5bac",
       "version_major": 2,
       "version_minor": 0
      },
      "text/plain": [
       "Canvas(toolbar=Toolbar(toolitems=[('Home', 'Reset original view', 'home', 'home'), ('Back', 'Back to previous …"
      ]
     },
     "metadata": {},
     "output_type": "display_data"
    },
    {
     "data": {
      "application/vnd.jupyter.widget-view+json": {
       "model_id": "950bba96ecc849f9a520e593ffce6d31",
       "version_major": 2,
       "version_minor": 0
      },
      "text/plain": [
       "Canvas(toolbar=Toolbar(toolitems=[('Home', 'Reset original view', 'home', 'home'), ('Back', 'Back to previous …"
      ]
     },
     "metadata": {},
     "output_type": "display_data"
    },
    {
     "data": {
      "application/vnd.jupyter.widget-view+json": {
       "model_id": "2345f383fe1c4951931db03095e52173",
       "version_major": 2,
       "version_minor": 0
      },
      "text/plain": [
       "Canvas(toolbar=Toolbar(toolitems=[('Home', 'Reset original view', 'home', 'home'), ('Back', 'Back to previous …"
      ]
     },
     "metadata": {},
     "output_type": "display_data"
    },
    {
     "data": {
      "application/vnd.jupyter.widget-view+json": {
       "model_id": "796e75b8ca984a209697e9e6a4cea859",
       "version_major": 2,
       "version_minor": 0
      },
      "text/plain": [
       "Canvas(toolbar=Toolbar(toolitems=[('Home', 'Reset original view', 'home', 'home'), ('Back', 'Back to previous …"
      ]
     },
     "metadata": {},
     "output_type": "display_data"
    },
    {
     "data": {
      "application/vnd.jupyter.widget-view+json": {
       "model_id": "428e0ed2aa4041dfa88e493ae266ad38",
       "version_major": 2,
       "version_minor": 0
      },
      "text/plain": [
       "Canvas(toolbar=Toolbar(toolitems=[('Home', 'Reset original view', 'home', 'home'), ('Back', 'Back to previous …"
      ]
     },
     "metadata": {},
     "output_type": "display_data"
    },
    {
     "data": {
      "application/vnd.jupyter.widget-view+json": {
       "model_id": "2650efbfd9224e9fa56f2274a1a87092",
       "version_major": 2,
       "version_minor": 0
      },
      "text/plain": [
       "Canvas(toolbar=Toolbar(toolitems=[('Home', 'Reset original view', 'home', 'home'), ('Back', 'Back to previous …"
      ]
     },
     "metadata": {},
     "output_type": "display_data"
    },
    {
     "data": {
      "application/vnd.jupyter.widget-view+json": {
       "model_id": "521890507ab04647a08fe97490867229",
       "version_major": 2,
       "version_minor": 0
      },
      "text/plain": [
       "Canvas(toolbar=Toolbar(toolitems=[('Home', 'Reset original view', 'home', 'home'), ('Back', 'Back to previous …"
      ]
     },
     "metadata": {},
     "output_type": "display_data"
    },
    {
     "data": {
      "application/vnd.jupyter.widget-view+json": {
       "model_id": "723590206fa54d55b3e9d65cc70962d8",
       "version_major": 2,
       "version_minor": 0
      },
      "text/plain": [
       "Canvas(toolbar=Toolbar(toolitems=[('Home', 'Reset original view', 'home', 'home'), ('Back', 'Back to previous …"
      ]
     },
     "metadata": {},
     "output_type": "display_data"
    },
    {
     "data": {
      "application/vnd.jupyter.widget-view+json": {
       "model_id": "d9f20cf5ec674f0886e881174a740826",
       "version_major": 2,
       "version_minor": 0
      },
      "text/plain": [
       "Canvas(toolbar=Toolbar(toolitems=[('Home', 'Reset original view', 'home', 'home'), ('Back', 'Back to previous …"
      ]
     },
     "metadata": {},
     "output_type": "display_data"
    },
    {
     "data": {
      "application/vnd.jupyter.widget-view+json": {
       "model_id": "19e5ab73365d46dea305819bca7dd28a",
       "version_major": 2,
       "version_minor": 0
      },
      "text/plain": [
       "Canvas(toolbar=Toolbar(toolitems=[('Home', 'Reset original view', 'home', 'home'), ('Back', 'Back to previous …"
      ]
     },
     "metadata": {},
     "output_type": "display_data"
    },
    {
     "data": {
      "application/vnd.jupyter.widget-view+json": {
       "model_id": "39e7c6dfe14541efba067b3cea44d46f",
       "version_major": 2,
       "version_minor": 0
      },
      "text/plain": [
       "Canvas(toolbar=Toolbar(toolitems=[('Home', 'Reset original view', 'home', 'home'), ('Back', 'Back to previous …"
      ]
     },
     "metadata": {},
     "output_type": "display_data"
    },
    {
     "data": {
      "application/vnd.jupyter.widget-view+json": {
       "model_id": "81e20a027f7a4e1e99f3e24a35f24f1b",
       "version_major": 2,
       "version_minor": 0
      },
      "text/plain": [
       "Canvas(toolbar=Toolbar(toolitems=[('Home', 'Reset original view', 'home', 'home'), ('Back', 'Back to previous …"
      ]
     },
     "metadata": {},
     "output_type": "display_data"
    }
   ],
   "source": [
    "# plot heatmaps\n",
    "for gene in annots.keys():\n",
    "    plot_heatmap(df_dens, ws_dens, sd_dens, annots, labels_str_df, labels_int_df, gene=gene)"
   ]
  },
  {
   "cell_type": "markdown",
   "id": "cosmetic-missile",
   "metadata": {},
   "source": [
    "## Hotspot candidates with the binomial model"
   ]
  },
  {
   "cell_type": "code",
   "execution_count": 11,
   "id": "trying-pittsburgh",
   "metadata": {},
   "outputs": [],
   "source": [
    "def get_bg_mutation_rates_per_gene(annots, df):\n",
    "    \"\"\"Calculate background mutation rates per gene.\"\"\"\n",
    "    rates = {\n",
    "        \"5UTR\": 0,\n",
    "        \"C\": 0,\n",
    "        \"prM/M\": 0,\n",
    "        \"E\": 0,\n",
    "        \"NS1\": 0,\n",
    "        \"NS2A\": 0,\n",
    "        \"NS2B\": 0,\n",
    "        \"NS3\":  0,\n",
    "        \"NS4A\": 0,\n",
    "        \"NS4B\": 0,\n",
    "        \"NS5\": 0,\n",
    "        \"3UTR\": 0,\n",
    "    }\n",
    "    \n",
    "    for key in rates.keys():\n",
    "        abv = df[df['pos'] >= annots[key][0]]\n",
    "        blw = abv[abv['pos'] <= annots[key][1]]\n",
    "        rates[key] = blw.shape[0] / (annots[key][1] - annots[key][0] + 1)\n",
    "\n",
    "    return rates"
   ]
  },
  {
   "cell_type": "code",
   "execution_count": 12,
   "id": "unusual-appointment",
   "metadata": {},
   "outputs": [],
   "source": [
    "def get_bg_mutation_rate(x, n):\n",
    "    \"\"\"Global estimation of the mutation rate.\n",
    "    \n",
    "    x : List[int]\n",
    "        mutation count in each region\n",
    "    n : List[int]\n",
    "        number of bases in each region\n",
    "        \n",
    "    \"\"\"\n",
    "    x = np.asarray(x)\n",
    "    n = np.asarray(n)\n",
    "    assert x.shape[0] == n.shape[0], \"# of regions must match\"\n",
    "    \n",
    "    return x.sum()/n.sum()"
   ]
  },
  {
   "cell_type": "code",
   "execution_count": 13,
   "id": "virtual-client",
   "metadata": {},
   "outputs": [],
   "source": [
    "# get background mutation rates per gene\n",
    "bg_df = get_bg_mutation_rates_per_gene(annots, df_data)\n",
    "bg_ws = get_bg_mutation_rates_per_gene(annots, ws_data)\n",
    "bg_sd = get_bg_mutation_rates_per_gene(annots, sd_data)\n",
    "\n",
    "# global bg rates\n",
    "p_df = get_bg_mutation_rate(muts_df, windows_df)\n",
    "p_ws = get_bg_mutation_rate(muts_ws, windows_ws)\n",
    "p_sd = get_bg_mutation_rate(muts_sd, windows_sd)"
   ]
  },
  {
   "cell_type": "code",
   "execution_count": 14,
   "id": "internal-greensboro",
   "metadata": {},
   "outputs": [],
   "source": [
    "from scipy import stats\n",
    "import re\n",
    "\n",
    "def binom_test(x, n, p, bg_genes, labels_int, annots):\n",
    "    \"\"\"Perform a binomial test for each region.\"\"\"\n",
    "    assert len(x) == len(n) == len(labels_int)\n",
    "    \n",
    "    p_vals = []\n",
    "    for r in range(len(x)):\n",
    "        flag = False\n",
    "        for key in annots.keys():\n",
    "            if labels_int[r][0] >= annots[key][0] and labels_int[r][1] <= annots[key][1]:        \n",
    "                p_val = stats.binom_test(x=x[r], n=n[r], p=bg_genes[key], alternative=\"greater\")\n",
    "                p_vals.append(p_val)\n",
    "                flag = True\n",
    "        if flag is False:\n",
    "            # its a region in between two genes\n",
    "            # use 'default' mutation rate\n",
    "            p_val = stats.binom_test(x=x[r], n=n[r], p=p, alternative=\"greater\")\n",
    "            p_vals.append(p_val)\n",
    "            \n",
    "    return p_vals"
   ]
  },
  {
   "cell_type": "code",
   "execution_count": 15,
   "id": "pressed-grill",
   "metadata": {},
   "outputs": [],
   "source": [
    "import statsmodels.stats.multitest as stm\n",
    "from prettytable import PrettyTable\n",
    "\n",
    "def print_table_of_significant_regions(muts, windows, labels, class_name, annots, p, bg_genes):\n",
    "    p_vals = stm.multipletests(np.asarray(binom_test(muts, windows, p, bg_genes, labels, annots)), method='fdr_bh')[1]\n",
    "    \n",
    "    # to np array\n",
    "    muts = np.asarray(muts)\n",
    "    windows = np.asarray(windows)\n",
    "    labels = np.asarray(labels)\n",
    "    \n",
    "    p_inds = np.arange(p_vals.shape[0])[p_vals < 0.05]  # select regions\n",
    "\n",
    "    flags = {\n",
    "        \"5UTR\": False,\n",
    "        \"C\": False,\n",
    "        \"prM/M\": False,\n",
    "        \"E\": False,\n",
    "        \"NS1\": False,\n",
    "        \"NS2A\": False,\n",
    "        \"NS2B\": False,\n",
    "        \"NS3\":  False,\n",
    "        \"NS4A\": False,\n",
    "        \"NS4B\": False,\n",
    "        \"NS5\": False,\n",
    "        \"3UTR\": False,\n",
    "    }\n",
    "\n",
    "    tab = PrettyTable()\n",
    "    tab.title = f\"{class_name} class\"\n",
    "    tab.field_names = [\"region\", \"length\", \"mutations\", \"adj. p-value\", \"index\"]\n",
    "    tab.vrules = 0\n",
    "    tab.align = \"l\"\n",
    "    for i in p_inds:\n",
    "        flag = False\n",
    "        for r in annots.keys():\n",
    "            if labels[i][0] > annots[r][0] and labels[i][1] < annots[r][1]:\n",
    "                flag = True\n",
    "                if not flags[r]:\n",
    "                    tab.add_row([\"----\", \"----\", \"<\" + r + \">\", \"----\", \"----\"])\n",
    "                    flags[r] = True\n",
    "        tab.add_row([f\"{labels[i][0]}-{labels[i][0]}\", windows[i], muts[i], round(p_vals[i], 5), i])\n",
    "    print(tab)\n",
    "    print()"
   ]
  },
  {
   "cell_type": "code",
   "execution_count": 17,
   "id": "surprised-automation",
   "metadata": {
    "collapsed": true,
    "jupyter": {
     "outputs_hidden": true
    },
    "tags": []
   },
   "outputs": [
    {
     "name": "stdout",
     "output_type": "stream",
     "text": [
      "+---------------------------------------------------------+\n",
      "|                         DF class                        |\n",
      "+---------------------------------------------------------+\n",
      "| region        length   mutations   adj. p-value   index |\n",
      "+---------------------------------------------------------+\n",
      "| ----          ----     <NS1>       ----           ----  |\n",
      "| 2485-2485     18       9           0.04716        138   |\n",
      "| ----          ----     <NS3>       ----           ----  |\n",
      "| 5833-5833     18       10          0.04716        324   |\n",
      "| ----          ----     <3UTR>      ----           ----  |\n",
      "| 10603-10603   18       8           0.04716        589   |\n",
      "+---------------------------------------------------------+\n",
      "\n",
      "+----------------------------------------------------+\n",
      "|                      WS class                      |\n",
      "+----------------------------------------------------+\n",
      "| region   length   mutations   adj. p-value   index |\n",
      "+----------------------------------------------------+\n",
      "+----------------------------------------------------+\n",
      "\n",
      "+---------------------------------------------------------+\n",
      "|                         SD class                        |\n",
      "+---------------------------------------------------------+\n",
      "| region        length   mutations   adj. p-value   index |\n",
      "+---------------------------------------------------------+\n",
      "| ----          ----     <prM/M>     ----           ----  |\n",
      "| 523-523       18       13          0.0001         29    |\n",
      "| ----          ----     <3UTR>      ----           ----  |\n",
      "| 10387-10387   18       10          0.0001         577   |\n",
      "+---------------------------------------------------------+\n",
      "\n"
     ]
    }
   ],
   "source": [
    "# print tables\n",
    "print_table_of_significant_regions(muts_df, windows_df, labels_int_df, \"DF\", annots, p_df, bg_df)\n",
    "print_table_of_significant_regions(muts_ws, windows_ws, labels_int_ws, \"WS\", annots, p_ws, bg_ws)\n",
    "print_table_of_significant_regions(muts_sd, windows_sd, labels_int_sd, \"SD\", annots, p_sd, bg_sd)"
   ]
  },
  {
   "cell_type": "code",
   "execution_count": null,
   "id": "further-gravity",
   "metadata": {},
   "outputs": [],
   "source": []
  }
 ],
 "metadata": {
  "kernelspec": {
   "display_name": "Python 3",
   "language": "python",
   "name": "python3"
  },
  "language_info": {
   "codemirror_mode": {
    "name": "ipython",
    "version": 3
   },
   "file_extension": ".py",
   "mimetype": "text/x-python",
   "name": "python",
   "nbconvert_exporter": "python",
   "pygments_lexer": "ipython3",
   "version": "3.8.5"
  }
 },
 "nbformat": 4,
 "nbformat_minor": 5
}
